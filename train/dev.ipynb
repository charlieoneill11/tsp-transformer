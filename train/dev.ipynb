{
 "cells": [
  {
   "cell_type": "code",
   "execution_count": 3,
   "metadata": {},
   "outputs": [],
   "source": [
    "import numpy as np\n",
    "import torch\n",
    "import transformer_lens as tl\n",
    "import json"
   ]
  },
  {
   "cell_type": "code",
   "execution_count": 4,
   "metadata": {},
   "outputs": [],
   "source": [
    "data_path = '../data/tsp/tsp_5nodes.json'\n",
    "\n",
    "# Load data as json\n",
    "with open(data_path, 'r') as f:\n",
    "    data = json.load(f)"
   ]
  },
  {
   "cell_type": "code",
   "execution_count": 6,
   "metadata": {},
   "outputs": [
    {
     "data": {
      "text/plain": [
       "{'n_nodes': 5,\n",
       " 'coords': [[81, 14], [3, 94], [35, 31], [28, 17], [94, 13]],\n",
       " 'distance_matrix': [[0.0,\n",
       "   111.73182178770737,\n",
       "   49.040799340956916,\n",
       "   53.08483775994799,\n",
       "   13.038404810405298],\n",
       "  [111.73182178770737,\n",
       "   0.0,\n",
       "   70.66116330771806,\n",
       "   80.95677859203639,\n",
       "   121.82774724995944],\n",
       "  [49.040799340956916,\n",
       "   70.66116330771806,\n",
       "   0.0,\n",
       "   15.652475842498529,\n",
       "   61.68468205316454],\n",
       "  [53.08483775994799,\n",
       "   80.95677859203639,\n",
       "   15.652475842498529,\n",
       "   0.0,\n",
       "   66.12110101926616],\n",
       "  [13.038404810405298,\n",
       "   121.82774724995944,\n",
       "   61.68468205316454,\n",
       "   66.12110101926616,\n",
       "   0.0]],\n",
       " 'optimal_route': [0, 4, 1, 2, 3],\n",
       " 'optimal_cost': 221.1798}"
      ]
     },
     "execution_count": 6,
     "metadata": {},
     "output_type": "execute_result"
    }
   ],
   "source": [
    "data[0]"
   ]
  },
  {
   "cell_type": "code",
   "execution_count": null,
   "metadata": {},
   "outputs": [],
   "source": []
  }
 ],
 "metadata": {
  "kernelspec": {
   "display_name": "tic-tac-latents",
   "language": "python",
   "name": "python3"
  },
  "language_info": {
   "codemirror_mode": {
    "name": "ipython",
    "version": 3
   },
   "file_extension": ".py",
   "mimetype": "text/x-python",
   "name": "python",
   "nbconvert_exporter": "python",
   "pygments_lexer": "ipython3",
   "version": "3.12.8"
  }
 },
 "nbformat": 4,
 "nbformat_minor": 2
}
